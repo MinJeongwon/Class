{
 "cells": [
  {
   "cell_type": "markdown",
   "metadata": {},
   "source": [
    "# Mar 14, 2019\n",
    "## Variables\n",
    "2018020143 민정원"
   ]
  },
  {
   "cell_type": "markdown",
   "metadata": {},
   "source": [
    "## 1. class 'dict'\n",
    "   : **사전 형식**의 리스트 만들기  \n",
    "  "
   ]
  },
  {
   "cell_type": "markdown",
   "metadata": {},
   "source": [
    "### 예제1.  \n",
    "리스트 a = {'John' : 'teacher', 'Emma' : 'doctor', 'Peter' : 'cook', 'Jane' : 'pianist'}     \n",
    "**리스트 a**의 **유형**을 **보여라**.\n"
   ]
  },
  {
   "cell_type": "code",
   "execution_count": 7,
   "metadata": {},
   "outputs": [
    {
     "name": "stdout",
     "output_type": "stream",
     "text": [
      "<class 'dict'>\n"
     ]
    }
   ],
   "source": [
    "a = {'John' : 'teacher', 'Emma' : 'doctor', 'Peter' : 'cook', 'Jane' : 'pianist'}\n",
    "print(type(a))"
   ]
  },
  {
   "cell_type": "markdown",
   "metadata": {},
   "source": [
    "### 예제2.  \n",
    "리스트 a = {'John' : 'teacher', 'Emma' : 'doctor', 'Peter' : 'cook', 'Jane' : 'pianist'}  \n",
    "**리스트 a**의 **Emma에 대응하는 항목**을 **보여라**.\n"
   ]
  },
  {
   "cell_type": "code",
   "execution_count": 8,
   "metadata": {},
   "outputs": [
    {
     "name": "stdout",
     "output_type": "stream",
     "text": [
      "doctor\n"
     ]
    }
   ],
   "source": [
    "print(a['Emma'])"
   ]
  },
  {
   "cell_type": "markdown",
   "metadata": {},
   "source": [
    "### 예제3.  리스트 안의 리스트\n",
    "리스트 b = { 1 : 'music', 2 : 'science', 3 : ['English', 'Chinese', 'Korean']}  \n",
    "**리스트 a**의 **3에 대응하는 항목**을 **보여라**."
   ]
  },
  {
   "cell_type": "code",
   "execution_count": 11,
   "metadata": {},
   "outputs": [
    {
     "name": "stdout",
     "output_type": "stream",
     "text": [
      "['English', 'Chinese', 'Korean']\n"
     ]
    }
   ],
   "source": [
    "b = { 1 : 'music', 2 : 'science', 3 : ['English', 'Chinese', 'Korean']}  \n",
    "print(b[3])"
   ]
  },
  {
   "cell_type": "markdown",
   "metadata": {},
   "source": [
    "## 2. numpy 사용하기  - array, matrix\n",
    "* python을 설치하지 않고 anaconda를 설치한 이유  \n",
    ": anaconda를 설치하면 자동으로 python에서 사용 가능한 여러 package가 설치되어 필요한 package를 일일이 다운받지 않아도 됨.  \n",
    "* import : anaconda를 설치하여 하드디스크에 다운받아진 package를 메모리로 불러들이기. \n",
    "* 어떤 한 package 내에는 여러 함수가 저장되어 있기 때문에 불러들인 이후 사용 가능."
   ]
  },
  {
   "cell_type": "markdown",
   "metadata": {},
   "source": [
    "### 예제1.  \n",
    "**numpy**라는 라이브러리를 **'np'라는 이름으로** memory로 **불러들이자.** "
   ]
  },
  {
   "cell_type": "code",
   "execution_count": 12,
   "metadata": {},
   "outputs": [],
   "source": [
    "import numpy as np"
   ]
  },
  {
   "cell_type": "markdown",
   "metadata": {},
   "source": [
    "### 예제2.  numpy 라이브러리 내의 array 함수 사용하기\n",
    "* 리스트 c = [(2, 3, 5), (7, 11, 13)]\n",
    "* 리스트 c에 **numpy 라이브러리 내의 array함수**를 적용시킨 것을 C라 하자.\n",
    "* C의 **유형을 보여라.**"
   ]
  },
  {
   "cell_type": "code",
   "execution_count": 14,
   "metadata": {},
   "outputs": [
    {
     "name": "stdout",
     "output_type": "stream",
     "text": [
      "[[ 2  3  5]\n",
      " [ 7 11 13]]\n",
      "<class 'numpy.ndarray'>\n"
     ]
    }
   ],
   "source": [
    "c = [(2, 3, 5), (7, 11, 13)]\n",
    "C = np.array(c)      \n",
    "print(C)           # array : 리스트를 행렬 '모양'으로 바꿔주는 함수(행렬로 바꿔주지는 않음) \n",
    "print(type(C))    "
   ]
  },
  {
   "cell_type": "markdown",
   "metadata": {},
   "source": [
    "### 예제3.  numpy 라이브러리 내의 array 함수 사용하기\n",
    "* c = [(2, 3, 5), (7, 11, 13)]\n",
    "* C = np.array(c)\n",
    "* **C곱하기C**를 **보여라**."
   ]
  },
  {
   "cell_type": "code",
   "execution_count": 28,
   "metadata": {},
   "outputs": [
    {
     "name": "stdout",
     "output_type": "stream",
     "text": [
      "[[  4   9  25]\n",
      " [ 49 121 169]]\n"
     ]
    }
   ],
   "source": [
    "c = [(2, 3, 5), (7, 11, 13)];\n",
    "C = np.array(c);\n",
    "print(C*C)                    # 행렬의 곱으로 만들어지지 않고, 결과는 단순 곱셈 형식으로 나타남. array는 리스트를 행렬 '모양'으로 만들어주는 함수이지, '행렬'로 만들어주지 않기 때문."
   ]
  },
  {
   "cell_type": "markdown",
   "metadata": {},
   "source": [
    "### 예제4.  numpy 라이브러리 내의 matrix 함수 사용하기\n",
    "* 리스트 c = [(2, 3, 5), (7, 11, 13)]\n",
    "* 리스트 c에 **numpy 라이브러리 내의 matrix함수**를 적용시킨 것을 D라 하자.\n",
    "* D를 **보여라.**  \n",
    "* D의 **유형을 보여라.**"
   ]
  },
  {
   "cell_type": "code",
   "execution_count": 17,
   "metadata": {},
   "outputs": [
    {
     "name": "stdout",
     "output_type": "stream",
     "text": [
      "[[ 2  3  5]\n",
      " [ 7 11 13]]\n",
      "<class 'numpy.matrixlib.defmatrix.matrix'>\n"
     ]
    }
   ],
   "source": [
    "D = np.matrix(c)\n",
    "print(D)\n",
    "print(type(D))"
   ]
  },
  {
   "cell_type": "markdown",
   "metadata": {},
   "source": [
    "### 예제5.  numpy 라이브러리 내의 matrix 함수 사용하기  \n",
    "* D = np.matrix(c)    \n",
    "* **행렬 D와 D를 곱한 것**을 **보여라**.  "
   ]
  },
  {
   "cell_type": "code",
   "execution_count": 26,
   "metadata": {
    "scrolled": true
   },
   "outputs": [
    {
     "ename": "ValueError",
     "evalue": "shapes (2,3) and (2,3) not aligned: 3 (dim 1) != 2 (dim 0)",
     "output_type": "error",
     "traceback": [
      "\u001b[0;31m---------------------------------------------------------------------------\u001b[0m",
      "\u001b[0;31mValueError\u001b[0m                                Traceback (most recent call last)",
      "\u001b[0;32m<ipython-input-26-15f7f7633333>\u001b[0m in \u001b[0;36m<module>\u001b[0;34m()\u001b[0m\n\u001b[0;32m----> 1\u001b[0;31m \u001b[0mprint\u001b[0m\u001b[0;34m(\u001b[0m\u001b[0mD\u001b[0m\u001b[0;34m*\u001b[0m\u001b[0mD\u001b[0m\u001b[0;34m)\u001b[0m    \u001b[0;31m# D는 (2X3)행렬. (2X3) 행렬끼리는 곱할 수 없음.\u001b[0m\u001b[0;34m\u001b[0m\u001b[0m\n\u001b[0m",
      "\u001b[0;32m~/anaconda3/envs/jwmin/lib/python3.5/site-packages/numpy/matrixlib/defmatrix.py\u001b[0m in \u001b[0;36m__mul__\u001b[0;34m(self, other)\u001b[0m\n\u001b[1;32m    307\u001b[0m         \u001b[0;32mif\u001b[0m \u001b[0misinstance\u001b[0m\u001b[0;34m(\u001b[0m\u001b[0mother\u001b[0m\u001b[0;34m,\u001b[0m \u001b[0;34m(\u001b[0m\u001b[0mN\u001b[0m\u001b[0;34m.\u001b[0m\u001b[0mndarray\u001b[0m\u001b[0;34m,\u001b[0m \u001b[0mlist\u001b[0m\u001b[0;34m,\u001b[0m \u001b[0mtuple\u001b[0m\u001b[0;34m)\u001b[0m\u001b[0;34m)\u001b[0m \u001b[0;34m:\u001b[0m\u001b[0;34m\u001b[0m\u001b[0m\n\u001b[1;32m    308\u001b[0m             \u001b[0;31m# This promotes 1-D vectors to row vectors\u001b[0m\u001b[0;34m\u001b[0m\u001b[0;34m\u001b[0m\u001b[0m\n\u001b[0;32m--> 309\u001b[0;31m             \u001b[0;32mreturn\u001b[0m \u001b[0mN\u001b[0m\u001b[0;34m.\u001b[0m\u001b[0mdot\u001b[0m\u001b[0;34m(\u001b[0m\u001b[0mself\u001b[0m\u001b[0;34m,\u001b[0m \u001b[0masmatrix\u001b[0m\u001b[0;34m(\u001b[0m\u001b[0mother\u001b[0m\u001b[0;34m)\u001b[0m\u001b[0;34m)\u001b[0m\u001b[0;34m\u001b[0m\u001b[0m\n\u001b[0m\u001b[1;32m    310\u001b[0m         \u001b[0;32mif\u001b[0m \u001b[0misscalar\u001b[0m\u001b[0;34m(\u001b[0m\u001b[0mother\u001b[0m\u001b[0;34m)\u001b[0m \u001b[0;32mor\u001b[0m \u001b[0;32mnot\u001b[0m \u001b[0mhasattr\u001b[0m\u001b[0;34m(\u001b[0m\u001b[0mother\u001b[0m\u001b[0;34m,\u001b[0m \u001b[0;34m'__rmul__'\u001b[0m\u001b[0;34m)\u001b[0m \u001b[0;34m:\u001b[0m\u001b[0;34m\u001b[0m\u001b[0m\n\u001b[1;32m    311\u001b[0m             \u001b[0;32mreturn\u001b[0m \u001b[0mN\u001b[0m\u001b[0;34m.\u001b[0m\u001b[0mdot\u001b[0m\u001b[0;34m(\u001b[0m\u001b[0mself\u001b[0m\u001b[0;34m,\u001b[0m \u001b[0mother\u001b[0m\u001b[0;34m)\u001b[0m\u001b[0;34m\u001b[0m\u001b[0m\n",
      "\u001b[0;31mValueError\u001b[0m: shapes (2,3) and (2,3) not aligned: 3 (dim 1) != 2 (dim 0)"
     ]
    }
   ],
   "source": [
    "print(D*D)    # D는 (2X3)행렬. (2X3) 행렬끼리는 곱할 수 없음."
   ]
  },
  {
   "cell_type": "markdown",
   "metadata": {},
   "source": [
    "### 예제6.  numpy 라이브러리 내의 matrix 함수 사용하기\n",
    "* (matrix).T : (matrix)를 transpose한 것.  \n",
    "* D = np.matrix(c)    \n",
    "* **D.T**를 **보여라**.\n",
    "* **행렬 D와 D.T를 곱한 것**을 **보여라**."
   ]
  },
  {
   "cell_type": "code",
   "execution_count": 25,
   "metadata": {},
   "outputs": [
    {
     "name": "stdout",
     "output_type": "stream",
     "text": [
      "[[ 2  7]\n",
      " [ 3 11]\n",
      " [ 5 13]]\n",
      "[[ 38 112]\n",
      " [112 339]]\n"
     ]
    }
   ],
   "source": [
    "print(D.T);     # 행렬 D를 transpose하면 (3X2)행렬이 됨.\n",
    "print(D*D.T)    # (2X3)행렬 * (3X2)행렬  ->    (2X2)행렬"
   ]
  },
  {
   "cell_type": "code",
   "execution_count": null,
   "metadata": {},
   "outputs": [],
   "source": []
  },
  {
   "cell_type": "code",
   "execution_count": null,
   "metadata": {},
   "outputs": [],
   "source": []
  },
  {
   "cell_type": "code",
   "execution_count": null,
   "metadata": {},
   "outputs": [],
   "source": []
  },
  {
   "cell_type": "code",
   "execution_count": null,
   "metadata": {},
   "outputs": [],
   "source": []
  },
  {
   "cell_type": "code",
   "execution_count": null,
   "metadata": {},
   "outputs": [],
   "source": []
  },
  {
   "cell_type": "code",
   "execution_count": null,
   "metadata": {},
   "outputs": [],
   "source": []
  },
  {
   "cell_type": "code",
   "execution_count": null,
   "metadata": {},
   "outputs": [],
   "source": []
  },
  {
   "cell_type": "code",
   "execution_count": null,
   "metadata": {},
   "outputs": [],
   "source": []
  },
  {
   "cell_type": "code",
   "execution_count": null,
   "metadata": {},
   "outputs": [],
   "source": []
  },
  {
   "cell_type": "code",
   "execution_count": null,
   "metadata": {},
   "outputs": [],
   "source": []
  },
  {
   "cell_type": "code",
   "execution_count": null,
   "metadata": {},
   "outputs": [],
   "source": []
  },
  {
   "cell_type": "code",
   "execution_count": null,
   "metadata": {},
   "outputs": [],
   "source": []
  },
  {
   "cell_type": "code",
   "execution_count": null,
   "metadata": {},
   "outputs": [],
   "source": []
  },
  {
   "cell_type": "code",
   "execution_count": null,
   "metadata": {},
   "outputs": [],
   "source": []
  }
 ],
 "metadata": {
  "kernelspec": {
   "display_name": "Python 3",
   "language": "python",
   "name": "python3"
  },
  "language_info": {
   "codemirror_mode": {
    "name": "ipython",
    "version": 3
   },
   "file_extension": ".py",
   "mimetype": "text/x-python",
   "name": "python",
   "nbconvert_exporter": "python",
   "pygments_lexer": "ipython3",
   "version": "3.7.1"
  }
 },
 "nbformat": 4,
 "nbformat_minor": 2
}
