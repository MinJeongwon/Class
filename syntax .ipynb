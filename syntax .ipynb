{
 "cells": [
  {
   "cell_type": "markdown",
   "metadata": {},
   "source": [
    "# Mar 12, 2019\n",
    "## Syntax\n",
    "2018020143 민정원"
   ]
  },
  {
   "cell_type": "markdown",
   "metadata": {},
   "source": [
    "## <p style=\"color: #ff0000\">1. for 문</p>  \n",
    "* 기본형식     \n",
    "    for **변수** in **리스트**  \n",
    "    (indentation) **함수**  \n",
    "<font color=blue>**리스트**의 **항목**를 차례대로 하나씩 가지고 와서 **함수**를 수행하라.</font>"
   ]
  },
  {
   "cell_type": "markdown",
   "metadata": {},
   "source": [
    "### 예제1.\n",
    "변수 : i  \n",
    "리스트 : a = ['dog', 'bird', 'frog', 'shark']   \n",
    "함수 : print(a)  \n",
    "<font color=blue>**리스트 a**의 **항목(dog, bird, frog, shark)**을 차례대로 하나씩 가지고 와서 **보여라**.</font>\n"
   ]
  },
  {
   "cell_type": "code",
   "execution_count": 24,
   "metadata": {},
   "outputs": [
    {
     "name": "stdout",
     "output_type": "stream",
     "text": [
      "dog\n",
      "bird\n",
      "frog\n",
      "shark\n"
     ]
    }
   ],
   "source": [
    "a = ['dog', 'bird', 'frog', 'shark']\n",
    "for i in a:\n",
    "    print(i)"
   ]
  },
  {
   "cell_type": "markdown",
   "metadata": {},
   "source": [
    "### 예제2.\n",
    "변수 : i  \n",
    "리스트 : b = [2, 3, 5, 7, 11]  \n",
    "함수 : print(b)  \n",
    "<font color=blue>**리스트 b**의 **항목(2, 3, 5, 7, 11)**을 차례대로 하나씩 가지고 와서 **보여라**.</font>\n"
   ]
  },
  {
   "cell_type": "code",
   "execution_count": 33,
   "metadata": {},
   "outputs": [
    {
     "name": "stdout",
     "output_type": "stream",
     "text": [
      "2\n",
      "3\n",
      "5\n",
      "7\n",
      "11\n"
     ]
    }
   ],
   "source": [
    "b = [2, 3, 5, 7, 11] \n",
    "for i in b:\n",
    "    print(i)"
   ]
  },
  {
   "cell_type": "code",
   "execution_count": 26,
   "metadata": {},
   "outputs": [
    {
     "name": "stdout",
     "output_type": "stream",
     "text": [
      "0\n",
      "1\n",
      "2\n",
      "3\n"
     ]
    }
   ],
   "source": [
    "a = [1, 2, 3, 4]\n",
    "for i in range(4):\n",
    "    print(i)"
   ]
  },
  {
   "cell_type": "markdown",
   "metadata": {},
   "source": [
    "## <font color=red>2. for 문 + range, len 함수</font>\n",
    "* range(숫자)  \n",
    "<font color=blue>0부터 **숫자**미만의 수를 포함하는 집합을 만들어라.</font>  \n",
    "cf. range(숫자1, 숫자2)  \n",
    "**숫자 1**부터 **숫자 2** 미만의 수를 포함하는 집합을 만들어라.\n",
    "* len(리스트)  \n",
    "<font color=blue>**리스트**의 항목 개수. 즉, 리스트의 크기(길이).</font>"
   ]
  },
  {
   "cell_type": "markdown",
   "metadata": {},
   "source": [
    "### 예제1.\n",
    "0부터 9 미만의 수를 포함하는 집합을 만들어라."
   ]
  },
  {
   "cell_type": "code",
   "execution_count": 27,
   "metadata": {},
   "outputs": [
    {
     "data": {
      "text/plain": [
       "range(0, 9)"
      ]
     },
     "execution_count": 27,
     "metadata": {},
     "output_type": "execute_result"
    }
   ],
   "source": [
    "range(9)"
   ]
  },
  {
   "cell_type": "markdown",
   "metadata": {},
   "source": [
    "### 예제2.\n",
    "* **0부터 9 미만의 수를 포함하는 집합**을 만들고 **항목**을 차례대로 하나씩 가지고 와서\n",
    "* **항목**을 보여라."
   ]
  },
  {
   "cell_type": "code",
   "execution_count": 28,
   "metadata": {},
   "outputs": [
    {
     "name": "stdout",
     "output_type": "stream",
     "text": [
      "0\n",
      "1\n",
      "2\n",
      "3\n",
      "4\n",
      "5\n",
      "6\n",
      "7\n",
      "8\n"
     ]
    }
   ],
   "source": [
    "for i in range(9):\n",
    "    print(i)"
   ]
  },
  {
   "cell_type": "markdown",
   "metadata": {},
   "source": [
    "### 예제3.\n",
    "* a = ['dog', 'bird', 'frog', 'shark'] 의 항목 개수를 보여라. \n",
    "* b = [2, 3, 5, 7, 11] 의 항목 개수를 보여라."
   ]
  },
  {
   "cell_type": "code",
   "execution_count": 34,
   "metadata": {},
   "outputs": [
    {
     "name": "stdout",
     "output_type": "stream",
     "text": [
      "4\n",
      "5\n"
     ]
    }
   ],
   "source": [
    "print(len(a));\n",
    "print(len(b))"
   ]
  },
  {
   "cell_type": "markdown",
   "metadata": {},
   "source": [
    "### 예제4.\n",
    "리스트 : b = [2, 3, 5, 7, 11]  \n",
    "* 0부터 **리스트 b의 항목 개수** (len 함수 사용) 미만을 포함하는 **집합** (range 함수 사용)을 만들고  \n",
    "* 항목을 차례대로 하나씩 가지고 와서\n",
    "* 집합의 각 항목에 3을 곱한 값을 보여라."
   ]
  },
  {
   "cell_type": "code",
   "execution_count": 37,
   "metadata": {},
   "outputs": [
    {
     "name": "stdout",
     "output_type": "stream",
     "text": [
      "0\n",
      "3\n",
      "6\n",
      "9\n",
      "12\n"
     ]
    }
   ],
   "source": [
    "b = [2, 3, 5, 7, 11]  \n",
    "for i in range(len(b)):\n",
    "    print(i*3)"
   ]
  },
  {
   "cell_type": "markdown",
   "metadata": {},
   "source": [
    "### 예제5.\n",
    "리스트 : a = ['dog', 'bird', 'frog', 'shark']  \n",
    "* 0부터 **리스트 a의 항목 개수** (len 함수 사용) 미만을 포함하는 **집합** (range 함수 사용)을 만들고  \n",
    "* 항목을 차례대로 하나씩 가지고 와서\n",
    "* 집합의 각 항목을 보여라."
   ]
  },
  {
   "cell_type": "code",
   "execution_count": 32,
   "metadata": {},
   "outputs": [
    {
     "name": "stdout",
     "output_type": "stream",
     "text": [
      "dog\n",
      "bird\n",
      "frog\n",
      "shark\n"
     ]
    }
   ],
   "source": [
    "a = ['dog', 'bird', 'frog', 'shark']\n",
    "for i in range(len(a)):\n",
    "    print(a[i])"
   ]
  },
  {
   "cell_type": "markdown",
   "metadata": {},
   "source": [
    "## <font color=red>3. for 문 + enumerate, zip 함수</font>\n",
    "* enumerate(리스트)  \n",
    "<font color=blue>????</font>\n",
    "* zip(리스트)  \n",
    "<font color=blue>???</font>"
   ]
  },
  {
   "cell_type": "code",
   "execution_count": 39,
   "metadata": {},
   "outputs": [
    {
     "name": "stdout",
     "output_type": "stream",
     "text": [
      "dog: 20.0%\n",
      "bird: 30.0%\n",
      "frog: 50.0%\n",
      "shark: 70.0%\n"
     ]
    }
   ],
   "source": [
    "a = ['dog', 'bird', 'frog', 'shark']\n",
    "c = [0.2, 0.3, 0.5, 0.7]\n",
    "for i, a in enumerate(a):\n",
    "    print(\"{}: {}%\".format(a, c[i]*100))"
   ]
  },
  {
   "cell_type": "code",
   "execution_count": null,
   "metadata": {},
   "outputs": [],
   "source": []
  },
  {
   "cell_type": "code",
   "execution_count": 40,
   "metadata": {},
   "outputs": [
    {
     "name": "stdout",
     "output_type": "stream",
     "text": [
      "dog: 20.0%\n",
      "bird: 30.0%\n",
      "frog: 50.0%\n",
      "shark: 70.0%\n"
     ]
    }
   ],
   "source": [
    "a = ['dog', 'bird', 'frog', 'shark']\n",
    "c = [0.2, 0.3, 0.5, 0.7] \n",
    "for a_, c_ in zip(a, c):\n",
    "    print(\"{}: {}%\".format(a_, c_*100))"
   ]
  },
  {
   "cell_type": "markdown",
   "metadata": {},
   "source": [
    "## <font color=red>4. if 문 + else, ==, *, >=</font>  \n",
    "* 기본형식   \n",
    "if 조건:  \n",
    "(indentation) 함수1  \n",
    "else:  \n",
    "(indentation) 함수2\n",
    "<font color=blue>**조건**하는 경우, **함수1**을 수행하라. **그렇지 않으면 함수2**를 수행하라. </font>  \n",
    "* '=='  \n",
    "<font color=blue>수학의 'equal'</font>  \n",
    "cf. '=' : '대입하라.\n",
    "* '*'  \n",
    "<font color=blue>곱하기</font>  \n",
    "* '>= 숫자'  \n",
    "<font color=blue>**숫자**보다 크거나 같다</font>  "
   ]
  },
  {
   "cell_type": "markdown",
   "metadata": {},
   "source": [
    "### 예제1.\n",
    "* 3을 d에 대입하라.  \n",
    "* d가 3인 경우  \n",
    "d를 보여라.  \n",
    "* 그렇지 않으면 **d+d** 값을 보여라."
   ]
  },
  {
   "cell_type": "code",
   "execution_count": 44,
   "metadata": {},
   "outputs": [
    {
     "name": "stdout",
     "output_type": "stream",
     "text": [
      "3\n"
     ]
    }
   ],
   "source": [
    "d = 3\n",
    "if d  == 3:\n",
    "    print(d)\n",
    "else:\n",
    "     print(d+d)"
   ]
  },
  {
   "cell_type": "markdown",
   "metadata": {},
   "source": [
    "### 예제2.\n",
    "* 3부터 6미만의 수를 포함하는 집합을 만들고 각 항목을 차례대로 하나씩 가지고 오라. 각 항목은 i.  \n",
    "* 2부터 4미만의 수를 포함하는 집합을 만들고 각 항목을 차례대로 하나씩 가지고 오라. 각 항목은 j.  \n",
    "* **(i+1)* (j-2)** 값을 보여라."
   ]
  },
  {
   "cell_type": "code",
   "execution_count": 52,
   "metadata": {},
   "outputs": [
    {
     "name": "stdout",
     "output_type": "stream",
     "text": [
      "0\n",
      "4\n",
      "0\n",
      "5\n",
      "0\n",
      "6\n"
     ]
    }
   ],
   "source": [
    "for i in range(3, 6):\n",
    "    for j in range(2, 4):\n",
    "        print((i+1)*(j-2))"
   ]
  },
  {
   "cell_type": "markdown",
   "metadata": {},
   "source": [
    "### 예제3.\n",
    "* 3부터 6미만의 수를 포함하는 집합을 만들고 각 항목을 차례대로 하나씩 가지고 오라. 각 항목은 i.  \n",
    "* 2부터 4미만의 수를 포함하는 집합을 만들고 각 항목을 차례대로 하나씩 가지고 오라. 각 항목은 j.    \n",
    "* j가 2보다 작거나 같은 경우 **i 곱하기 j** 값을 보여라."
   ]
  },
  {
   "cell_type": "code",
   "execution_count": 53,
   "metadata": {},
   "outputs": [
    {
     "name": "stdout",
     "output_type": "stream",
     "text": [
      "6\n",
      "8\n",
      "10\n"
     ]
    }
   ],
   "source": [
    "for i in range(3, 6):\n",
    "    for j in range(2, 4):\n",
    "        if j <=2:\n",
    "            print(i*j)"
   ]
  },
  {
   "cell_type": "markdown",
   "metadata": {},
   "source": [
    "## <font color=red>5. if/for문 사용하여 리스트 만들기</font>  "
   ]
  },
  {
   "cell_type": "markdown",
   "metadata": {},
   "source": [
    "### 예제1.\n",
    "리스트 : b = [2, 3, 5, 7, 11]  \n",
    "* 리스트 e 만들기\n",
    "* b의 각 항목을 차례로 하나씩 i라 하는데  \n",
    "* 그 i가 6보다 작은 경우, 리스트 e에 차례로 하나씩 가지고 온다. \n",
    "* 리스트 e는?"
   ]
  },
  {
   "cell_type": "code",
   "execution_count": null,
   "metadata": {},
   "outputs": [],
   "source": [
    "b = [2, 3, 5, 7, 11]\n",
    "e = [i for i in b if i < 6 ]\n",
    "e"
   ]
  },
  {
   "cell_type": "markdown",
   "metadata": {},
   "source": [
    "### 예제2.\n",
    "리스트 : a = ['dog', 'bird', 'frog', 'shark']  \n",
    "* 리스트 f 만들기\n",
    "* a의 각 항목을 차례로 하나씩 j라 하는데  \n",
    "* 그 j의 길이가 4보다 큰 경우, 리스트 f에 차례로 하나씩 가지고 온다. \n",
    "* 리스트 f는?"
   ]
  },
  {
   "cell_type": "code",
   "execution_count": 56,
   "metadata": {},
   "outputs": [
    {
     "data": {
      "text/plain": [
       "['shark']"
      ]
     },
     "execution_count": 56,
     "metadata": {},
     "output_type": "execute_result"
    }
   ],
   "source": [
    "a = ['dog', 'bird', 'frog', 'shark']  \n",
    "f = [j for j in a if len(j) >4]\n",
    "f"
   ]
  }
 ],
 "metadata": {
  "kernelspec": {
   "display_name": "Python 3",
   "language": "python",
   "name": "python3"
  },
  "language_info": {
   "codemirror_mode": {
    "name": "ipython",
    "version": 3
   },
   "file_extension": ".py",
   "mimetype": "text/x-python",
   "name": "python",
   "nbconvert_exporter": "python",
   "pygments_lexer": "ipython3",
   "version": "3.7.1"
  }
 },
 "nbformat": 4,
 "nbformat_minor": 2
}
